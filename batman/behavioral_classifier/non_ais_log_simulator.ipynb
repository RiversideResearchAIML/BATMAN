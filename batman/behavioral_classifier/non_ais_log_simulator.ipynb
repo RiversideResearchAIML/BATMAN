{
 "cells": [
  {
   "cell_type": "code",
   "execution_count": null,
   "id": "051fbd5e",
   "metadata": {},
   "outputs": [],
   "source": [
    "!pip3 install faker"
   ]
  },
  {
   "cell_type": "code",
   "execution_count": null,
   "id": "3547fa81",
   "metadata": {},
   "outputs": [],
   "source": [
    "import pandas as pd\n",
    "import numpy as np\n",
    "import math\n",
    "from faker import Faker\n",
    "import csv\n",
    "from datetime import datetime\n",
    "from faker.providers import BaseProvider\n",
    "import random\n",
    "import json"
   ]
  },
  {
   "cell_type": "code",
   "execution_count": null,
   "id": "7493225a",
   "metadata": {},
   "outputs": [],
   "source": [
    "def capitalize(str):\n",
    "    return str.capitalize()\n",
    "\n",
    "def affiliation():\n",
    "    country = fake.country()\n",
    "    return country\n",
    "\n",
    "class EEZProvider(BaseProvider):\n",
    "    def eez(self):\n",
    "        return random.choice(['Yes', 'No'])\n",
    "\n",
    "class LegalRequirementProvider(BaseProvider):\n",
    "    def legal(self):\n",
    "        return random.choice(['AIS Transmission Required', 'No AIS Transmission Required'])\n",
    "\n",
    "class WeatherProvider(BaseProvider):\n",
    "    def weather_type(self):\n",
    "        return random.choice(['Cloudy', 'Sunny', 'Stormy', 'Hurricane', 'Still'])\n",
    "\n",
    "class RFProvider(BaseProvider):\n",
    "    def rf_feeds(self):\n",
    "        return random.choice(['Coaxial Cable', 'Twin-Lead', 'Ladder Line', 'Waveguide', 'Antenna'])\n",
    "    \n",
    "class DraughtProvider(BaseProvider):\n",
    "    def draught_changes(self):\n",
    "        return random.choice(['Change', 'No Change'])\n",
    "\n",
    "class BeaconingProvider(BaseProvider):\n",
    "    def beaconing(self):\n",
    "        return random.choice(['Yes', 'No'])\n",
    "\n",
    "def NavigationPort():\n",
    "    navigation_port = fake.city()\n",
    "    return navigation_port\n",
    "\n",
    "def NearestPort():\n",
    "    nearest_port = fake.city()\n",
    "    return nearest_port\n",
    "\n",
    "class ShipProvider(BaseProvider):\n",
    "    def ship_class(self):\n",
    "        return random.choice(['A', 'B', 'C'])\n",
    "\n",
    "def latitude():\n",
    "    latitude = fake.latitude()\n",
    "    return latitude\n",
    "\n",
    "def longitude():\n",
    "    longitude = fake.longitude()\n",
    "    return longitude\n",
    "\n",
    "def date():\n",
    "    date = fake.date_this_decade()\n",
    "    return date\n",
    "\n",
    "def time():\n",
    "    time = fake.time()\n",
    "    return time\n",
    "\n",
    "class AISProvider(BaseProvider):\n",
    "    def ais_compliant(self):\n",
    "        return random.choice(['Yes', 'No'])\n",
    "\n",
    "class PairingProvider(BaseProvider):\n",
    "    def ship_pairing(self):\n",
    "        return random.choice(['Checked', 'Not Checked'])"
   ]
  },
  {
   "cell_type": "code",
   "execution_count": null,
   "id": "f5c5d29f",
   "metadata": {},
   "outputs": [],
   "source": [
    "def generate_contextual_log():\n",
    "    return [fake.eez(), fake.legal(), fake.weather_type(), fake.rf_feeds()]\n",
    "\n",
    "def generate_ship_log():\n",
    "    return [affiliation(), \"NaN\", \"NaN\", \"NaN\", fake.draught_changes(), fake.beaconing(), NavigationPort(), NearestPort(),\n",
    "            fake.ship_class(), latitude(), longitude(), date(), time(), fake.ais_compliant(), fake.ship_pairing()]\n"
   ]
  },
  {
   "cell_type": "code",
   "execution_count": null,
   "id": "a9d8b4e2",
   "metadata": {},
   "outputs": [],
   "source": [
    "fake = Faker()\n",
    "\n",
    "fake.add_provider(EEZProvider)\n",
    "fake.add_provider(LegalRequirementProvider)\n",
    "fake.add_provider(WeatherProvider)\n",
    "fake.add_provider(RFProvider)\n",
    "fake.add_provider(DraughtProvider)\n",
    "fake.add_provider(BeaconingProvider)\n",
    "fake.add_provider(ShipProvider)\n",
    "fake.add_provider(AISProvider)\n",
    "fake.add_provider(PairingProvider)"
   ]
  },
  {
   "cell_type": "code",
   "execution_count": null,
   "id": "ae307013",
   "metadata": {},
   "outputs": [],
   "source": [
    "with open (\"contextual_data.csv\", \"w\") as f, open (\"ship_data.csv\", \"w\") as g:\n",
    "    writer1 = csv.writer(f)\n",
    "    writer2 = csv.writer(g)\n",
    "    writer1.writerow([\"EEZ\", \"Legal Requirement\", \"Weather Information\", \"RF Feeds\"])\n",
    "    writer2.writerow([\"Affiliation\", \"Behavior\", \"Secondary Behavior\", \"Tertiary Behavior\", \"Draught Changes\",\n",
    "                      \"Beaconing\", \"Navigation Port\", \"Nearest Port\", \"Ship Class\", \"Latitude\", \"Longitude\",\n",
    "                      \"Date\", \"Time\", \"AIS Compliant\", \"Ship-Pairing Check\"])\n",
    "    for n in range(1, 1000):\n",
    "        writer1.writerow(generate_contextual_log())\n",
    "        writer2.writerow(generate_ship_log())"
   ]
  },
  {
   "cell_type": "code",
   "execution_count": null,
   "id": "4e024d9c",
   "metadata": {},
   "outputs": [],
   "source": [
    "df1 = pd.read_csv(\"contextual_data.csv\")\n",
    "\n",
    "df1.head()"
   ]
  },
  {
   "cell_type": "code",
   "execution_count": null,
   "id": "aff17c21",
   "metadata": {},
   "outputs": [],
   "source": [
    "df2 = pd.read_csv(\"ship_data.csv\")\n",
    "\n",
    "df2.head()"
   ]
  },
  {
   "cell_type": "code",
   "execution_count": null,
   "id": "3e201b94",
   "metadata": {},
   "outputs": [],
   "source": [
    "def concatenate(dataframe1, dataframe2):\n",
    "    dataframe3 = pd.concat([dataframe1, dataframe2], axis=1)\n",
    "    return dataframe3\n",
    "\n",
    "non_ais_dataframe = concatenate(df1, df2)"
   ]
  },
  {
   "cell_type": "code",
   "execution_count": null,
   "id": "f4263180",
   "metadata": {},
   "outputs": [],
   "source": [
    "non_ais_dataframe.head()"
   ]
  }
 ],
 "metadata": {
  "kernelspec": {
   "display_name": "Python 3 (ipykernel)",
   "language": "python",
   "name": "python3"
  },
  "language_info": {
   "codemirror_mode": {
    "name": "ipython",
    "version": 3
   },
   "file_extension": ".py",
   "mimetype": "text/x-python",
   "name": "python",
   "nbconvert_exporter": "python",
   "pygments_lexer": "ipython3",
   "version": "3.9.12"
  }
 },
 "nbformat": 4,
 "nbformat_minor": 5
}
